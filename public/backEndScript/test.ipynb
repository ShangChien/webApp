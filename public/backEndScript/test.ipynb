{
 "cells": [
  {
   "cell_type": "code",
   "execution_count": 2,
   "metadata": {},
   "outputs": [],
   "source": [
    "from rdkit import Chem\n",
    "from pathlib import Path\n",
    "from rdkit.Chem import rdDepictor,Descriptors,rdMolDescriptors,rdMolEnumerator,Draw"
   ]
  },
  {
   "cell_type": "code",
   "execution_count": 9,
   "metadata": {},
   "outputs": [],
   "source": [
    "def get_H_num(smi):#以列表形式统计H原子的总数和H同位素个数：[总数，氕，氘，氚]\n",
    "    mol = Chem.MolFromSmiles(smi)\n",
    "    H1=0\n",
    "    for atom in mol.GetAtoms():\n",
    "        H1 += atom.GetTotalNumHs()\n",
    "    H2=smi.count('[2H]')\n",
    "    H3=smi.count('[3H]')\n",
    "    H_total= H1 + H2 + H3\n",
    "    H_list=[H_total,H1,H2,H3]\n",
    "    return H_list\n",
    "\n",
    "def get_formula(mol,split=False):#输出化学计量数分子式，修复rdkit不能识别氢的同位素\n",
    "    formula = rdMolDescriptors.CalcMolFormula(mol)\n",
    "    smi = Chem.MolToSmiles(mol)\n",
    "    H_list = get_H_num(smi)\n",
    "    if H_list[2]>0 or H_list[3]>0:#判断是否含有氢的同位素\n",
    "        formula_sub=formula.split('H',-1)\n",
    "        print(formula_sub)\n",
    "        for index,value in enumerate(formula_sub[1]):\n",
    "            print(formula_sub[1])\n",
    "            if value.isalpha():\n",
    "                formula_sub[1]=formula_sub[1][index:]\n",
    "                break\n",
    "        #formula_sub.insert(1,)\n",
    "        formula_sub.insert(1,'H'+str(H_list[1]))\n",
    "        print(formula_sub)\n",
    "        if H_list[2]>0:\n",
    "            formula_sub.insert(2,'D'+str(H_list[2]))\n",
    "            if H_list[3]>0:\n",
    "                formula_sub.insert(3,'T'+str(H_list[3]))\n",
    "        else:\n",
    "            formula_sub.insert(2,'T'+str(H_list[3]))\n",
    "        formula = ''.join(formula_sub)\n",
    "    if split:#是否分割输出\n",
    "        import re\n",
    "        return re.findall(r'[0-9]+|[a-zA-Z]+',formula)\n",
    "    else:\n",
    "        return formula"
   ]
  },
  {
   "cell_type": "code",
   "execution_count": 4,
   "metadata": {},
   "outputs": [],
   "source": [
    "mol1=Chem.MolFromSmiles('[2H]C1=C([2H])C(N2C(C([2H])=C([2H])C(C3=CC(C4=CC=CC=C4)=CC=C3C5=CC(C6=NC(C7=CC=CC=C7)=NC(C8=CC=CC=C8)=N6)=C(C9=C(C=CC=C9)O%10)C%10=C5)=C%11[2H])=C%11C%12=C2C([2H])=C([2H])C([2H])=C%12[2H])=C([2H])C([2H])=C1[2H]')"
   ]
  },
  {
   "cell_type": "code",
   "execution_count": 6,
   "metadata": {},
   "outputs": [
    {
     "data": {
      "image/png": "[encoded data removed]",
      "text/plain": [
       "<rdkit.Chem.rdchem.Mol at 0x1d77291f160>"
      ]
     },
     "execution_count": 6,
     "metadata": {},
     "output_type": "execute_result"
    }
   ],
   "source": [
    "mol1"
   ]
  },
  {
   "cell_type": "code",
   "execution_count": 10,
   "metadata": {},
   "outputs": [
    {
     "name": "stdout",
     "output_type": "stream",
     "text": [
      "['C57', '36N4O']\n",
      "36N4O\n",
      "36N4O\n",
      "36N4O\n",
      "['C57', 'H24', 'N4O']\n"
     ]
    },
    {
     "data": {
      "text/plain": [
       "'C57H24D12N4O'"
      ]
     },
     "execution_count": 10,
     "metadata": {},
     "output_type": "execute_result"
    }
   ],
   "source": [
    "get_formula(mol1)"
   ]
  },
  {
   "cell_type": "code",
   "execution_count": 5,
   "metadata": {},
   "outputs": [
    {
     "name": "stdout",
     "output_type": "stream",
     "text": [
      "['C57', '36N4O']\n",
      "36N4O\n",
      "36N4O\n",
      "36N4O\n",
      "['C57', 'H', '24', 'N4O']\n"
     ]
    },
    {
     "data": {
      "text/plain": [
       "'C57H24D12N4O'"
      ]
     },
     "execution_count": 5,
     "metadata": {},
     "output_type": "execute_result"
    }
   ],
   "source": [
    "get_formula(mol1)"
   ]
  },
  {
   "cell_type": "code",
   "execution_count": 15,
   "metadata": {},
   "outputs": [
    {
     "data": {
      "text/plain": [
       "'C57H24D12'"
      ]
     },
     "execution_count": 15,
     "metadata": {},
     "output_type": "execute_result"
    }
   ],
   "source": [
    "formula"
   ]
  },
  {
   "cell_type": "code",
   "execution_count": 29,
   "metadata": {},
   "outputs": [
    {
     "name": "stdout",
     "output_type": "stream",
     "text": [
      " 63 66  0 0  0  0  0  0  0  0  0999 V2000\n"
     ]
    }
   ],
   "source": [
    "for file in Path.cwd().glob('*.mol'):###只会转换后缀为.mol的文件\n",
    "    with open(file,'r') as f:\n",
    "        lines=f.readlines()\n",
    "        lines[3]=lines[3][0:len(lines[3])-30]+'0  0  0  0  0  0  0  0999 V2000\\n'\n",
    "        print(lines[3])\n",
    "    with open(file,'w') as f:\n",
    "        f.writelines(lines)\n",
    "        f.close()"
   ]
  },
  {
   "cell_type": "code",
   "execution_count": 35,
   "metadata": {},
   "outputs": [],
   "source": [
    "Path(Path.cwd(),'CCPU-3-F-P-MP2.mol')"
   ]
  },
  {
   "cell_type": "code",
   "execution_count": 38,
   "metadata": {},
   "outputs": [],
   "source": [
    "s=Chem.MolFromMolFile(Path(Path.cwd(),'CCPU-3-F-P-MP2.mol').as_posix())"
   ]
  },
  {
   "cell_type": "code",
   "execution_count": 39,
   "metadata": {},
   "outputs": [],
   "source": [
    "s"
   ]
  },
  {
   "cell_type": "code",
   "execution_count": 28,
   "metadata": {},
   "outputs": [
    {
     "data": {
      "text/plain": [
       "'0123'"
      ]
     },
     "execution_count": 28,
     "metadata": {},
     "output_type": "execute_result"
    }
   ],
   "source": [
    "s[0:len(s)-3]"
   ]
  },
  {
   "cell_type": "code",
   "execution_count": null,
   "metadata": {},
   "outputs": [],
   "source": []
  }
 ],
 "metadata": {
  "kernelspec": {
   "display_name": "Python 3.8.13 ('base')",
   "language": "python",
   "name": "python3"
  },
  "language_info": {
   "codemirror_mode": {
    "name": "ipython",
    "version": 3
   },
   "file_extension": ".py",
   "mimetype": "text/x-python",
   "name": "python",
   "nbconvert_exporter": "python",
   "pygments_lexer": "ipython3",
   "version": "3.8.13"
  },
  "orig_nbformat": 4,
  "vscode": {
   "interpreter": {
    "hash": "a04f5d07b0747026a8fbcdf50b9443318e69b1b8bd6247d88bfadb4789282972"
   }
  }
 },
 "nbformat": 4,
 "nbformat_minor": 2
}
