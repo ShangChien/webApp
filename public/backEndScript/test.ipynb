{
 "cells": [
  {
   "cell_type": "code",
   "execution_count": 8,
   "source": [
    "from rdkit import Chem\r\n",
    "from pathlib import Path\r\n",
    "from rdkit.Chem import rdDepictor,Descriptors,rdMolDescriptors,rdMolEnumerator,Draw"
   ],
   "outputs": [],
   "metadata": {}
  },
  {
   "cell_type": "code",
   "execution_count": 29,
   "source": [
    "def get_H_num(smi):#以列表形式统计H原子的总数和H同位素个数：[总数，氕，氘，氚]\r\n",
    "    mol = Chem.MolFromSmiles(smi)\r\n",
    "    H1=0\r\n",
    "    for atom in mol.GetAtoms():\r\n",
    "        H1 += atom.GetTotalNumHs()\r\n",
    "    H2=smi.count('[2H]')\r\n",
    "    H3=smi.count('[3H]')\r\n",
    "    H_total= H1 + H2 + H3\r\n",
    "    H_list=[H_total,H1,H2,H3]\r\n",
    "    return H_list\r\n",
    "\r\n",
    "def get_formula(mol,split=False):#输出化学计量数分子式，修复rdkit不能识别氢的同位素\r\n",
    "    formula = rdMolDescriptors.CalcMolFormula(mol)\r\n",
    "    smi = Chem.MolToSmiles(mol)\r\n",
    "    H_list = get_H_num(smi)\r\n",
    "    if H_list[2]>0 or H_list[3]>0:#判断是否含有氢的同位素\r\n",
    "        formula_sub=formula.split('H',-1)\r\n",
    "        print(formula_sub)\r\n",
    "        for index,value in enumerate(formula_sub[1]):\r\n",
    "            print(formula_sub[1])\r\n",
    "            if value.isalpha():\r\n",
    "                formula_sub[1]=formula_sub[1][index:]\r\n",
    "                break\r\n",
    "        formula_sub.insert(1,'H')\r\n",
    "        formula_sub.insert(2,str(H_list[1]))\r\n",
    "        print(formula_sub)\r\n",
    "        if H_list[2]>0:\r\n",
    "            formula_sub.insert(3,'D')\r\n",
    "            formula_sub.insert(4,str(H_list[2]))\r\n",
    "            if H_list[3]>0:\r\n",
    "                formula_sub.insert(5,'T')\r\n",
    "                formula_sub.insert(6,str(H_list[3]))\r\n",
    "        else:\r\n",
    "            formula_sub.insert(3,'T')\r\n",
    "            formula_sub.insert(4,str(H_list[3]))\r\n",
    "        formula = ''.join(formula_sub)\r\n",
    "    if split:#是否分割输出\r\n",
    "        import re\r\n",
    "        return re.findall(r'[0-9]+|[a-zA-Z]+',formula)\r\n",
    "    else:\r\n",
    "        return formula"
   ],
   "outputs": [],
   "metadata": {}
  },
  {
   "cell_type": "code",
   "execution_count": 6,
   "source": [
    "mol1=Chem.MolFromSmiles('[2H]C1=C([2H])C(N2C(C([2H])=C([2H])C(C3=CC(C4=CC=CC=C4)=CC=C3C5=CC(C6=NC(C7=CC=CC=C7)=NC(C8=CC=CC=C8)=N6)=C(C9=C(C=CC=C9)O%10)C%10=C5)=C%11[2H])=C%11C%12=C2C([2H])=C([2H])C([2H])=C%12[2H])=C([2H])C([2H])=C1[2H]')"
   ],
   "outputs": [],
   "metadata": {}
  },
  {
   "cell_type": "code",
   "execution_count": 30,
   "source": [
    "get_formula(mol1)"
   ],
   "outputs": [
    {
     "output_type": "stream",
     "name": "stdout",
     "text": [
      "['C57', '36N4O']\n",
      "36N4O\n",
      "36N4O\n",
      "36N4O\n",
      "['C57', 'H', '24', 'N4O']\n"
     ]
    },
    {
     "output_type": "execute_result",
     "data": {
      "text/plain": [
       "'C57H24D12N4O'"
      ]
     },
     "metadata": {},
     "execution_count": 30
    }
   ],
   "metadata": {}
  },
  {
   "cell_type": "code",
   "execution_count": 15,
   "source": [
    "formula"
   ],
   "outputs": [
    {
     "output_type": "execute_result",
     "data": {
      "text/plain": [
       "'C57H24D12'"
      ]
     },
     "metadata": {},
     "execution_count": 15
    }
   ],
   "metadata": {}
  },
  {
   "cell_type": "code",
   "execution_count": 29,
   "source": [
    "for file in Path.cwd().glob('*.mol'):###只会转换后缀为.mol的文件\r\n",
    "    with open(file,'r') as f:\r\n",
    "        lines=f.readlines()\r\n",
    "        lines[3]=lines[3][0:len(lines[3])-30]+'0  0  0  0  0  0  0  0999 V2000\\n'\r\n",
    "        print(lines[3])\r\n",
    "    with open(file,'w') as f:\r\n",
    "        f.writelines(lines)\r\n",
    "        f.close()"
   ],
   "outputs": [
    {
     "output_type": "stream",
     "name": "stdout",
     "text": [
      " 63 66  0 0  0  0  0  0  0  0  0999 V2000\n"
     ]
    }
   ],
   "metadata": {}
  },
  {
   "cell_type": "code",
   "execution_count": 35,
   "source": [
    "Path(Path.cwd(),'CCPU-3-F-P-MP2.mol')"
   ],
   "outputs": [],
   "metadata": {}
  },
  {
   "cell_type": "code",
   "execution_count": 38,
   "source": [
    "s=Chem.MolFromMolFile(Path(Path.cwd(),'CCPU-3-F-P-MP2.mol').as_posix())"
   ],
   "outputs": [],
   "metadata": {}
  },
  {
   "cell_type": "code",
   "execution_count": 39,
   "source": [
    "s"
   ],
   "outputs": [],
   "metadata": {}
  },
  {
   "cell_type": "code",
   "execution_count": 28,
   "source": [
    "s[0:len(s)-3]"
   ],
   "outputs": [
    {
     "output_type": "execute_result",
     "data": {
      "text/plain": [
       "'0123'"
      ]
     },
     "metadata": {},
     "execution_count": 28
    }
   ],
   "metadata": {}
  },
  {
   "cell_type": "code",
   "execution_count": null,
   "source": [],
   "outputs": [],
   "metadata": {}
  }
 ],
 "metadata": {
  "orig_nbformat": 4,
  "language_info": {
   "name": "python",
   "version": "3.8.8",
   "mimetype": "text/x-python",
   "codemirror_mode": {
    "name": "ipython",
    "version": 3
   },
   "pygments_lexer": "ipython3",
   "nbconvert_exporter": "python",
   "file_extension": ".py"
  },
  "kernelspec": {
   "name": "python3",
   "display_name": "Python 3.8.8 64-bit (conda)"
  },
  "interpreter": {
   "hash": "9cc273a5df71486cc71a39a261bf6d82d026507ff1b51fa9f8def4a2173a39cc"
  }
 },
 "nbformat": 4,
 "nbformat_minor": 2
}