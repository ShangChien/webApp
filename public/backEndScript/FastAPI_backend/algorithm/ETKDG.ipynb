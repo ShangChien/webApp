{
 "cells": [
  {
   "cell_type": "code",
   "execution_count": 24,
   "metadata": {},
   "outputs": [
    {
     "name": "stdout",
     "output_type": "stream",
     "text": [
      "2022.03.5\n"
     ]
    }
   ],
   "source": [
    "\n",
    "from rdkit import rdBase, Chem\n",
    "from rdkit.Chem.Draw import IPythonConsole\n",
    "from rdkit.Chem import rdMolEnumerator,rdDepictor\n",
    "from itertools import combinations,product\n",
    "rdDepictor.SetPreferCoordGen(True)\n",
    "print(rdBase.rdkitVersion)\n",
    "IPythonConsole.drawOptions.addBondIndices = True###显示原子索引\n",
    "IPythonConsole.drawOptions.addAtomIndices = True###显示原子索引\n",
    "IPythonConsole.molSize = 400,400"
   ]
  },
  {
   "cell_type": "code",
   "execution_count": 8,
   "metadata": {},
   "outputs": [],
   "source": [
    "def add_dummy2smi(mol,i:int):\n",
    "\tdummy = Chem.Atom(0)  # 0 is the atomic number \n",
    "\trwmol = Chem.RWMol(mol)\n",
    "\trwmol.AddBond(rwmol.AddAtom(dummy),i,Chem.rdchem.BondType.SINGLE)\n",
    "\tnums=rwmol.GetNumAtoms()\n",
    "\tsmi=Chem.MolToSmiles(rwmol)\n",
    "\treturn [smi,nums]\n",
    "\n",
    "def split_bond2smi(mol,i:int):\n",
    "\tibond=mol.GetBondWithIdx(i)\n",
    "\tbegin=ibond.GetBeginAtomIdx()\n",
    "\tend=ibond.GetEndAtomIdx()\n",
    "\trwmol=Chem.RWMol(mol)\n",
    "\trwmol.RemoveBond(begin,end)\n",
    "\trwmol.ReplaceAtom(begin,Chem.Atom(0))\n",
    "\trwmol.ReplaceAtom(end,Chem.Atom(0))\n",
    "\tsmi=Chem.MolToSmiles(rwmol)\n",
    "\tnums=rwmol.GetNumAtoms()\n",
    "\tdummy_index=[\n",
    "\t\tatom.GetIdx()+1 \n",
    "\t\tfor atom in Chem.MolFromSmiles(smi,sanitize=False).GetAtoms() \n",
    "\t\t\tif atom.GetSymbol() == \"*\"\n",
    "\t]\n",
    "\treturn [smi,nums,*dummy_index]\n"
   ]
  },
  {
   "cell_type": "code",
   "execution_count": 9,
   "metadata": {},
   "outputs": [],
   "source": [
    "from pydantic import BaseModel\n",
    "from typing import Union,List,Set,Dict\n",
    "class enumSetting(BaseModel):\n",
    "\tlist:List[int]=[]\n",
    "\trange:List[float]=[]\n",
    "\tconnect2index:List[int]=[]\n",
    "\tkeepSame2Index:List[int]=[]\n",
    "class core(BaseModel):\n",
    "\tid: int\n",
    "\tsmiles: str\n",
    "\tenumAtoms:Dict[int, enumSetting]={}\n",
    "\tenumBonds:Dict[int, enumSetting]={}\n",
    "class molecule(BaseModel):\n",
    "  id: int\n",
    "  smiles: str\n",
    "  atoms: Dict[int,List[int]]={}\n",
    "  bonds: Dict[int,List[int]]={} \n",
    "class enumData(BaseModel):\n",
    "  core: core\n",
    "  ligands: List[molecule]"
   ]
  },
  {
   "cell_type": "code",
   "execution_count": 10,
   "metadata": {},
   "outputs": [],
   "source": [
    "core={\n",
    "\t'id':2,\n",
    "\t'smiles':'C1(C=CC=C2)=C2C(C=CC=C3)=C3[Si]1',\n",
    "\t'enumAtoms':{\n",
    "        \"2\": {\n",
    "            \"list\": [1,2,3,4 ],\n",
    "            \"range\": [2, 4],\n",
    "            \"connect2index\": [2,9],\n",
    "            \"keepSame2Index\": []\n",
    "        },\n",
    "        \"9\": { \n",
    "\t    \t\"list\": [10,9,8],\n",
    "            \"range\": [1,3],\n",
    "            \"connect2index\": [2,9],\n",
    "            \"keepSame2Index\": []\n",
    "        }\n",
    "\t}\n",
    "}\n"
   ]
  },
  {
   "cell_type": "code",
   "execution_count": 11,
   "metadata": {},
   "outputs": [
    {
     "data": {
      "text/plain": [
       "[1, 2, 3, 4]"
      ]
     },
     "execution_count": 11,
     "metadata": {},
     "output_type": "execute_result"
    }
   ],
   "source": [
    "core['enumAtoms']['2'].get('list')"
   ]
  },
  {
   "cell_type": "code",
   "execution_count": 12,
   "metadata": {},
   "outputs": [],
   "source": [
    "ligands={\n",
    "    \"2\": [\n",
    "        [\n",
    "            \"*c1cccc2c1[Si]c1ccccc1-2\",\n",
    "            14\n",
    "        ],\n",
    "        [\n",
    "            \"*c1ccc2c(c1)[Si]c1ccccc1-2\",\n",
    "            14\n",
    "        ],\n",
    "        [\n",
    "            \"*c1ccc2c(c1)-c1ccccc1[Si]2\",\n",
    "            14\n",
    "        ],\n",
    "        [\n",
    "            \"*c1cccc2c1-c1ccccc1[Si]2\",\n",
    "            14\n",
    "        ]\n",
    "    ],\n",
    "    \"9\": [\n",
    "        [\n",
    "            \"*c1cccc2c1[Si]c1ccccc1-2\",\n",
    "            14\n",
    "        ],\n",
    "        [\n",
    "            \"*c1ccc2c(c1)[Si]c1ccccc1-2\",\n",
    "            14\n",
    "        ],\n",
    "        [\n",
    "            \"*c1ccc2c(c1)-c1ccccc1[Si]2\",\n",
    "            14\n",
    "        ]\n",
    "    ]\n",
    "}"
   ]
  },
  {
   "cell_type": "code",
   "execution_count": 13,
   "metadata": {},
   "outputs": [
    {
     "data": {
      "text/plain": [
       "[['*c1cccc2c1[Si]c1ccccc1-2', 14],\n",
       " ['*c1ccc2c(c1)[Si]c1ccccc1-2', 14],\n",
       " ['*c1ccc2c(c1)-c1ccccc1[Si]2', 14],\n",
       " ['*c1cccc2c1-c1ccccc1[Si]2', 14]]"
      ]
     },
     "execution_count": 13,
     "metadata": {},
     "output_type": "execute_result"
    }
   ],
   "source": [
    "ligands['2']"
   ]
  },
  {
   "cell_type": "code",
   "execution_count": 14,
   "metadata": {},
   "outputs": [],
   "source": [
    "\n",
    "combos=[{'2': [1, 3], '9': [10, 9]}]"
   ]
  },
  {
   "cell_type": "code",
   "execution_count": 15,
   "metadata": {},
   "outputs": [],
   "source": [
    "def generateColorBase():\n",
    "\tcolorbase={}\n",
    "\tfor i in core['enumAtoms'].keys():\n",
    "\t\tcolorbase[i]=[]\n",
    "\t\tfor i1 in core['enumAtoms'][i]['connect2index']:\n",
    "\t\t\tcolorbase[i].extend(ligands[str(i1)])\n",
    "\treturn colorbase"
   ]
  },
  {
   "cell_type": "code",
   "execution_count": 16,
   "metadata": {},
   "outputs": [
    {
     "name": "stdout",
     "output_type": "stream",
     "text": [
      "2\n",
      "2\n"
     ]
    }
   ],
   "source": [
    "for combo in combos:\n",
    "\tkeys=combo.keys()\n",
    "\tfor k in keys:\n",
    "\t\tprint(len(combo[k]))"
   ]
  },
  {
   "cell_type": "code",
   "execution_count": 17,
   "metadata": {},
   "outputs": [],
   "source": [
    "def enum_core_site(core:core):\n",
    "\trateCombo={}\n",
    "\tfor k in core['enumAtoms']:\n",
    "\t\tarr=core['enumAtoms'][k]['list']\n",
    "\t\trate=sorted(core['enumAtoms'][k]['range'])\n",
    "\t\trate[-1]=rate[-1]+1\n",
    "\t\trateCombo[k]=[]\n",
    "\t\tfor n in range(*rate):\n",
    "\t\t\trateCombo[k].extend([list(i) for i in combinations(arr, n)])\n",
    "\tcombo=[[*i] for i in product(*rateCombo.values())]\n",
    "\tcolorIndex=rateCombo.keys()\n",
    "\tcombo=map((lambda x : {v:x[i] for i,v in enumerate(colorIndex)}), combo)\n",
    "\treturn combo"
   ]
  },
  {
   "cell_type": "code",
   "execution_count": 18,
   "metadata": {},
   "outputs": [],
   "source": [
    "def getAtomCombos(core,ligands):#combos={colorindex:coresite[]}->\n",
    "\t#组合不同颜色的位点库\n",
    "\tmol=Chem.MolFromSmiles(core['smiles'])\n",
    "\tnums=mol.GetNumAtoms()\n",
    "\tcolorbase={}\n",
    "\tfor i in core['enumAtoms'].keys():\n",
    "\t\tcolorbase[i]=[]\n",
    "\t\tfor i1 in core['enumAtoms'][i]['connect2index']:\n",
    "\t\t\tcolorbase[i].extend(ligands[str(i1)])\n",
    "\t#组合带有虚原子的smi\n",
    "\tt_combos=[]\n",
    "\tcombos=enum_core_site(core)\n",
    "\tfor combo in combos:\n",
    "\t\tkeys=combo.keys()\n",
    "\t\tkeys_combo=[]\n",
    "\t\tfor k in keys:\n",
    "\t\t\tkeys_combo.append([])\n",
    "\t\t\tlength=len(combo[k])\n",
    "\t\t\tfor combo_i in product(colorbase[k],repeat=length):\n",
    "\t\t\t\t_item=[]#[[smi,totalAtoms,site]]\n",
    "\t\t\t\tfor i,_v in enumerate(combo_i): \n",
    "\t\t\t\t\t_convert=_v.copy()\n",
    "\t\t\t\t\t_convert.append(combo[k][i])\n",
    "\t\t\t\t\t_item.append(_convert)\n",
    "\t\t\t\tkeys_combo[-1].append(_item)\n",
    "\t\tfor combo_color in product(*keys_combo):\n",
    "\t\t\ti=[c for com in combo_color for c in com]\n",
    "\t\t\tsmis=core['smiles']\n",
    "\t\t\tsite_n=nums\n",
    "\t\t\tlink='m:'\n",
    "\t\t\tfor item in i:\n",
    "\t\t\t\tsmis=smis+'.'+item[0]\n",
    "\t\t\t\tlink=link+str(site_n)+':'+str(item[-1])+','\n",
    "\t\t\t\tsite_n=site_n+item[1]\n",
    "\t\t\tcxsmi=smis+' '+'|'+link+'|'\n",
    "\t\t\tt_combos.append(cxsmi)\n",
    "\treturn t_combos\n",
    "\t"
   ]
  },
  {
   "cell_type": "code",
   "execution_count": 20,
   "metadata": {},
   "outputs": [
    {
     "data": {
      "text/plain": [
       "2078237"
      ]
     },
     "execution_count": 20,
     "metadata": {},
     "output_type": "execute_result"
    }
   ],
   "source": [
    "ss=getAtomCombos(core,ligands)\n",
    "len(list(ss))"
   ]
  },
  {
   "cell_type": "code",
   "execution_count": 25,
   "metadata": {},
   "outputs": [],
   "source": [
    "smis=[\"C1(C=CC=C2)=C2C(C=CC=C3)=C3[Si]1.*c1cccc2c1-c1ccccc1[Si]2.*c1ccc2c(c1)[Si]c1ccccc1-2.*c1ccc2c(c1)-c1ccccc1[Si]2.*c1cccc2c1[Si]c1ccccc1-2 |m:13:1,27:2,41:3,55:4,|\",\n",
    "\"C1(C=CC=C2)=C2C(C=CC=C3)=C3[Si]1.*c1cccc2c1-c1ccccc1[Si]2.*c1ccc2c(c1)[Si]c1ccccc1-2.*c1ccc2c(c1)-c1ccccc1[Si]2.*c1ccc2c(c1)[Si]c1ccccc1-2 |m:13:1,27:2,41:3,55:4,|\"]"
   ]
  },
  {
   "cell_type": "code",
   "execution_count": 26,
   "metadata": {},
   "outputs": [],
   "source": [
    "\n",
    "def convert_smi(i:str)->str:\n",
    "\tmol=Chem.MolFromSmiles(i)\n",
    "\tsmi=Chem.MolToSmiles(rdMolEnumerator.Enumerate(mol)[0])\n",
    "\treturn smi\n",
    "\n",
    "def parallel_convert_smis(smis_link:List[str])->List[str]:\n",
    "\tsmis=Parallel(n_jobs=6)(delayed(convert_smi)(i) for i in smis_link)\n",
    "\treturn smis\n"
   ]
  },
  {
   "cell_type": "code",
   "execution_count": 27,
   "metadata": {},
   "outputs": [],
   "source": [
    "\n",
    "from joblib import Parallel, delayed"
   ]
  },
  {
   "cell_type": "code",
   "execution_count": 28,
   "metadata": {},
   "outputs": [
    {
     "data": {
      "text/plain": [
       "['c1ccc2c(c1)[Si]c1cc(-c3c(-c4cccc5c4-c4ccccc4[Si]5)c4c(c(-c5cccc6c5[Si]c5ccccc5-6)c3-c3ccc5c(c3)-c3ccccc3[Si]5)-c3ccccc3[Si]4)ccc1-2',\n",
       " 'c1ccc2c(c1)[Si]c1cc(-c3c4c(c(-c5cccc6c5-c5ccccc5[Si]6)c(-c5ccc6c(c5)[Si]c5ccccc5-6)c3-c3ccc5c(c3)-c3ccccc3[Si]5)[Si]c3ccccc3-4)ccc1-2']"
      ]
     },
     "execution_count": 28,
     "metadata": {},
     "output_type": "execute_result"
    }
   ],
   "source": [
    "parallel_convert_smis(smis)"
   ]
  },
  {
   "cell_type": "code",
   "execution_count": 19,
   "metadata": {},
   "outputs": [],
   "source": [
    "from joblib import Parallel, delayed\n",
    "def fun1(i):\n",
    "\tmol=Chem.MolFromSmiles(i)\n",
    "\tsmi=Chem.MolToSmiles(rdMolEnumerator.Enumerate(mol)[0])\n",
    "\treturn smi\n",
    "smis=Parallel(n_jobs=-1)(delayed(fun1)(i) for i in ss[:100000])"
   ]
  },
  {
   "cell_type": "code",
   "execution_count": 21,
   "metadata": {},
   "outputs": [
    {
     "data": {
      "text/plain": [
       "True"
      ]
     },
     "execution_count": 21,
     "metadata": {},
     "output_type": "execute_result"
    }
   ],
   "source": [
    "Chem.CanonSmiles(smis[0])==smis[0]"
   ]
  },
  {
   "cell_type": "code",
   "execution_count": 16,
   "metadata": {},
   "outputs": [],
   "source": [
    "\n",
    "from typing import List\n",
    "from typing import TypeVar,Iterable\n",
    "S = TypeVar('S')\n",
    "Response = Iterable[S]\n",
    "\n",
    "def funsss(l:List[int])->Iterable[int]:\n",
    "\treturn map(lambda x:x*2, l)\n"
   ]
  },
  {
   "cell_type": "code",
   "execution_count": 17,
   "metadata": {},
   "outputs": [],
   "source": [
    "out=funsss(l=[1,2,3,4])"
   ]
  },
  {
   "cell_type": "code",
   "execution_count": 15,
   "metadata": {},
   "outputs": [
    {
     "data": {
      "text/plain": [
       "map"
      ]
     },
     "execution_count": 15,
     "metadata": {},
     "output_type": "execute_result"
    }
   ],
   "source": [
    "for i in out:\n",
    "\tout."
   ]
  },
  {
   "cell_type": "code",
   "execution_count": 24,
   "metadata": {},
   "outputs": [
    {
     "data": {
      "image/png": "[encoded data removed]",
      "text/plain": [
       "<rdkit.Chem.rdchem.Mol at 0x18278190940>"
      ]
     },
     "execution_count": 24,
     "metadata": {},
     "output_type": "execute_result"
    }
   ],
   "source": [
    "Chem.MolFromSmiles(smis[0])"
   ]
  },
  {
   "cell_type": "code",
   "execution_count": 25,
   "metadata": {},
   "outputs": [],
   "source": [
    "smis=[]\n",
    "for i in ss[:100000]:\n",
    "\tmol=Chem.MolFromSmiles(i)\n",
    "\tsmis.append(Chem.MolToSmiles(rdMolEnumerator.Enumerate(mol)[0]))"
   ]
  },
  {
   "cell_type": "code",
   "execution_count": null,
   "metadata": {},
   "outputs": [],
   "source": [
    "smis=list(set(smis))\n"
   ]
  },
  {
   "cell_type": "code",
   "execution_count": null,
   "metadata": {},
   "outputs": [
    {
     "data": {
      "text/plain": [
       "34"
      ]
     },
     "execution_count": 20,
     "metadata": {},
     "output_type": "execute_result"
    }
   ],
   "source": [
    "len(smis)"
   ]
  },
  {
   "cell_type": "code",
   "execution_count": null,
   "metadata": {},
   "outputs": [
    {
     "data": {
      "text/plain": [
       "'c1ccccc1'"
      ]
     },
     "execution_count": 37,
     "metadata": {},
     "output_type": "execute_result"
    }
   ],
   "source": [
    "smi=Chem.CanonSmiles('C1=CC=CC=C1')\n",
    "smi"
   ]
  },
  {
   "cell_type": "code",
   "execution_count": null,
   "metadata": {},
   "outputs": [
    {
     "data": {
      "image/png": "[encoded data removed]",
      "text/plain": [
       "<rdkit.Chem.rdchem.Mol at 0x1c8db8d0700>"
      ]
     },
     "execution_count": 50,
     "metadata": {},
     "output_type": "execute_result"
    }
   ],
   "source": [
    "mol=Chem.MolFromSmiles('c1ccc2c(c1)[Si]c1ccccc1-2.*:cccc:* |m:13:9,18:10,|',sanitize=False)\n",
    "mol"
   ]
  },
  {
   "cell_type": "code",
   "execution_count": null,
   "metadata": {},
   "outputs": [],
   "source": []
  },
  {
   "cell_type": "code",
   "execution_count": null,
   "metadata": {},
   "outputs": [],
   "source": [
    "\n",
    "rwmol = Chem.RWMol(mol)\n",
    "rwmol.AddBond(6,19,Chem.rdchem.BondType.SINGLE)\n",
    "#nums=rwmol.GetNumAtoms()\n",
    "#smi=Chem.MolToSmiles(rwmol)\n",
    "out_smi=Chem.MolToSmiles(rwmol)"
   ]
  },
  {
   "cell_type": "code",
   "execution_count": null,
   "metadata": {},
   "outputs": [
    {
     "data": {
      "text/plain": [
       "True"
      ]
     },
     "execution_count": 21,
     "metadata": {},
     "output_type": "execute_result"
    }
   ],
   "source": [
    "Chem.CanonSmiles(out_smi)==out_smi"
   ]
  },
  {
   "cell_type": "code",
   "execution_count": 5,
   "metadata": {},
   "outputs": [],
   "source": [
    "def fun(s:int)->int:\n",
    "\ts+=1\n",
    "\treturn s"
   ]
  },
  {
   "cell_type": "code",
   "execution_count": 1,
   "metadata": {},
   "outputs": [],
   "source": [
    "from joblib import Parallel,delayed"
   ]
  },
  {
   "cell_type": "code",
   "execution_count": 11,
   "metadata": {},
   "outputs": [],
   "source": [
    "def fun(s:int)->int:\n",
    "\ts+=1\n",
    "\treturn s\n",
    "async def bar(n:int):\n",
    "\tout=Parallel(n_jobs=6)(delayed(fun)(i) for i in range(n))\n",
    "\tprint('parallel done')\n",
    "\treturn out"
   ]
  },
  {
   "cell_type": "code",
   "execution_count": 21,
   "metadata": {},
   "outputs": [],
   "source": [
    "import asyncio\n",
    "async def fun(s:int)->int:\n",
    "\tawait asyncio.sleep(2)\n",
    "\tprint('fun',s)\n",
    "\treturn s\n",
    "async def test(s:int):\n",
    "\tout=await fun(s)\n",
    "\tprint('test')\n",
    "\tprint(out)\n",
    "\treturn out"
   ]
  },
  {
   "cell_type": "code",
   "execution_count": 22,
   "metadata": {},
   "outputs": [
    {
     "name": "stdout",
     "output_type": "stream",
     "text": [
      "fun 4\n",
      "test\n",
      "4\n"
     ]
    },
    {
     "data": {
      "text/plain": [
       "4"
      ]
     },
     "execution_count": 22,
     "metadata": {},
     "output_type": "execute_result"
    }
   ],
   "source": [
    "await test(4)"
   ]
  },
  {
   "cell_type": "code",
   "execution_count": 2,
   "metadata": {},
   "outputs": [],
   "source": [
    "loop = asyncio.get_event_loop()"
   ]
  },
  {
   "cell_type": "code",
   "execution_count": 3,
   "metadata": {},
   "outputs": [
    {
     "data": {
      "text/plain": [
       "<_WindowsSelectorEventLoop running=True closed=False debug=False>"
      ]
     },
     "execution_count": 3,
     "metadata": {},
     "output_type": "execute_result"
    }
   ],
   "source": [
    "loop"
   ]
  },
  {
   "cell_type": "code",
   "execution_count": 1,
   "metadata": {},
   "outputs": [
    {
     "name": "stdout",
     "output_type": "stream",
     "text": [
      "started at 16:28:13\n",
      "协程2\n",
      "协程1\n",
      "协程3\n",
      "end at 16:28:16\n"
     ]
    }
   ],
   "source": [
    "#import nest_asyncio\n",
    "#nest_asyncio.apply()\n",
    "import asyncio\n",
    "import time\n",
    "async def func1():\n",
    "    await asyncio.sleep(2)\n",
    "    print('协程1')\n",
    "    return 1\n",
    "\n",
    "async def func2():\n",
    "    await asyncio.sleep(1)\n",
    "    print('协程2')\n",
    "    return 2\n",
    "\n",
    "async def func3():\n",
    "    await asyncio.sleep(3)\n",
    "    print('协程3')\n",
    "    return 3\n",
    "task = [func1(), func2(),func3()]\n",
    "background_tasks = set()\n",
    "async def main():\n",
    "    for fun in task:\n",
    "        task1=asyncio.create_task(fun)\n",
    "        background_tasks.add(task1)\n",
    "        task1.add_done_callback(background_tasks.discard)\n",
    "    res=await asyncio.wait(background_tasks)\n",
    "    return res\n",
    "print(f\"started at {time.strftime('%X')}\")\n",
    "ss=await main()\n",
    "print(f\"end at {time.strftime('%X')}\")\n"
   ]
  },
  {
   "cell_type": "code",
   "execution_count": 17,
   "metadata": {},
   "outputs": [],
   "source": [
    "from rdkit import Chem\n",
    "from rdkit.Chem import Draw\n",
    "mol=Chem.MolFromSmiles('C1=CC=C2C3=CC=CC=C3OC2=C1')\n",
    "drawer = Draw.MolDraw2DSVG(300, 300)\n",
    "drawer.DrawMolecule(mol)\n",
    "drawer.FinishDrawing()\n",
    "svg = drawer.GetDrawingText()\n",
    "with open(\"mol1.svg\", \"w\") as f:\n",
    "    f.write(svg)"
   ]
  },
  {
   "cell_type": "code",
   "execution_count": null,
   "metadata": {},
   "outputs": [],
   "source": []
  },
  {
   "cell_type": "code",
   "execution_count": 1,
   "metadata": {},
   "outputs": [],
   "source": [
    "\n",
    "async def main():\n",
    "  async with asyncio.TaskGroup() as tg:\n",
    "    task1 = tg.create_task(func1())\n",
    "    task2 = tg.create_task(func2())\n",
    "    task3 = tg.create_task(func3())\n",
    "    print(f\"started at {time.strftime('%X')}\")\n",
    "  print(f\"finished at {time.strftime('%X')}\")"
   ]
  },
  {
   "cell_type": "code",
   "execution_count": 2,
   "metadata": {},
   "outputs": [
    {
     "ename": "NameError",
     "evalue": "name 'asyncio' is not defined",
     "output_type": "error",
     "traceback": [
      "\u001b[1;31m---------------------------------------------------------------------------\u001b[0m",
      "\u001b[1;31mNameError\u001b[0m                                 Traceback (most recent call last)",
      "\u001b[1;32mc:\\Users\\chensq\\Desktop\\webApp\\webApp-master\\public\\backEndScript\\FastAPI_backend\\algorithm\\ETKDG.ipynb Cell 43\u001b[0m in \u001b[0;36m<cell line: 1>\u001b[1;34m()\u001b[0m\n\u001b[1;32m----> <a href='vscode-notebook-cell:/c%3A/Users/chensq/Desktop/webApp/webApp-master/public/backEndScript/FastAPI_backend/algorithm/ETKDG.ipynb#ch0000055?line=0'>1</a>\u001b[0m \u001b[39mawait\u001b[39;00m main()\n",
      "\u001b[1;32mc:\\Users\\chensq\\Desktop\\webApp\\webApp-master\\public\\backEndScript\\FastAPI_backend\\algorithm\\ETKDG.ipynb Cell 43\u001b[0m in \u001b[0;36mmain\u001b[1;34m()\u001b[0m\n\u001b[0;32m      <a href='vscode-notebook-cell:/c%3A/Users/chensq/Desktop/webApp/webApp-master/public/backEndScript/FastAPI_backend/algorithm/ETKDG.ipynb#ch0000055?line=0'>1</a>\u001b[0m \u001b[39masync\u001b[39;00m \u001b[39mdef\u001b[39;00m \u001b[39mmain\u001b[39m():\n\u001b[1;32m----> <a href='vscode-notebook-cell:/c%3A/Users/chensq/Desktop/webApp/webApp-master/public/backEndScript/FastAPI_backend/algorithm/ETKDG.ipynb#ch0000055?line=1'>2</a>\u001b[0m   \u001b[39masync\u001b[39;00m \u001b[39mwith\u001b[39;00m asyncio\u001b[39m.\u001b[39mTaskGroup() \u001b[39mas\u001b[39;00m tg:\n\u001b[0;32m      <a href='vscode-notebook-cell:/c%3A/Users/chensq/Desktop/webApp/webApp-master/public/backEndScript/FastAPI_backend/algorithm/ETKDG.ipynb#ch0000055?line=2'>3</a>\u001b[0m     task1 \u001b[39m=\u001b[39m tg\u001b[39m.\u001b[39mcreate_task(func1())\n\u001b[0;32m      <a href='vscode-notebook-cell:/c%3A/Users/chensq/Desktop/webApp/webApp-master/public/backEndScript/FastAPI_backend/algorithm/ETKDG.ipynb#ch0000055?line=3'>4</a>\u001b[0m     task2 \u001b[39m=\u001b[39m tg\u001b[39m.\u001b[39mcreate_task(func2())\n",
      "\u001b[1;31mNameError\u001b[0m: name 'asyncio' is not defined"
     ]
    }
   ],
   "source": [
    "await main()"
   ]
  },
  {
   "cell_type": "code",
   "execution_count": 1,
   "metadata": {},
   "outputs": [],
   "source": [
    "import rdkit\n",
    "from rdkit.Chem import CanonSmiles as cs"
   ]
  },
  {
   "cell_type": "code",
   "execution_count": null,
   "metadata": {},
   "outputs": [],
   "source": [
    "for i in range(100000):\n",
    "\tsmi=rdkit.Chem.CanonSmiles('C1=CC=CC=C1')"
   ]
  },
  {
   "cell_type": "code",
   "execution_count": 13,
   "metadata": {},
   "outputs": [],
   "source": [
    "\n",
    "for i in range(100000):\n",
    "\tsmi=cs('C1=CC=CC=C1')"
   ]
  },
  {
   "cell_type": "code",
   "execution_count": null,
   "metadata": {},
   "outputs": [],
   "source": []
  },
  {
   "cell_type": "code",
   "execution_count": null,
   "metadata": {},
   "outputs": [],
   "source": []
  }
 ],
 "metadata": {
  "kernelspec": {
   "display_name": "Python 3.8.13 ('base')",
   "language": "python",
   "name": "python3"
  },
  "language_info": {
   "codemirror_mode": {
    "name": "ipython",
    "version": 3
   },
   "file_extension": ".py",
   "mimetype": "text/x-python",
   "name": "python",
   "nbconvert_exporter": "python",
   "pygments_lexer": "ipython3",
   "version": "3.8.13"
  },
  "orig_nbformat": 4,
  "vscode": {
   "interpreter": {
    "hash": "a04f5d07b0747026a8fbcdf50b9443318e69b1b8bd6247d88bfadb4789282972"
   }
  }
 },
 "nbformat": 4,
 "nbformat_minor": 2
}
